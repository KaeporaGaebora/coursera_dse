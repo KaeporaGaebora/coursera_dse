{
 "cells": [
  {
   "cell_type": "markdown",
   "source": [
    "# Data Science Tools and Ecosystem"
   ],
   "metadata": {
    "collapsed": false
   },
   "id": "fec40765e9eb8c5e"
  },
  {
   "cell_type": "markdown",
   "source": [
    "## Author\n",
    "Michael"
   ],
   "metadata": {
    "collapsed": false
   },
   "id": "b35016fa000efc3c"
  },
  {
   "cell_type": "markdown",
   "source": [
    "__Objectives:__\n",
    "* List popular languages for Data Science\n",
    "* List popular databases for Data Science\n",
    "* Learn more about Jupyter Notebooks"
   ],
   "metadata": {
    "collapsed": false
   },
   "id": "2fde600838902cca"
  },
  {
   "cell_type": "markdown",
   "source": [
    "In this notebook, Data Science Tools and Ecosystem are summarized."
   ],
   "metadata": {
    "collapsed": false
   },
   "id": "d18823f29579aa5e"
  },
  {
   "cell_type": "markdown",
   "source": [
    "Some of the popular languages that Data Scientists use are:\n",
    "1. Python\n",
    "2. R\n",
    "3. Java"
   ],
   "metadata": {
    "collapsed": false
   },
   "id": "8372683132dcd127"
  },
  {
   "cell_type": "markdown",
   "source": [
    "Some of the commonly used libraries used by Data Scientists include:\n",
    "1. Pandas\n",
    "2. scikit-learn\n",
    "3. matplotlib"
   ],
   "metadata": {
    "collapsed": false
   },
   "id": "de87f3f394edd188"
  },
  {
   "cell_type": "markdown",
   "source": [
    "| Data Science Tools |\n",
    "|--------------------|\n",
    "| MongoDB            |\n",
    "| Hadoop             |\n",
    "| Apache Spark       |\n"
   ],
   "metadata": {
    "collapsed": false
   },
   "id": "baf59b7edc87a5aa"
  },
  {
   "cell_type": "markdown",
   "source": [
    "Below are a few examples of evaluating arithmetic expressions in Python"
   ],
   "metadata": {
    "collapsed": false
   },
   "id": "e142ff6ee62c3ce7"
  },
  {
   "cell_type": "code",
   "outputs": [
    {
     "data": {
      "text/plain": "17"
     },
     "execution_count": 11,
     "metadata": {},
     "output_type": "execute_result"
    }
   ],
   "source": [
    "# This a simple arithmetic expression to mutiply then add integers\n",
    "(3*4)+5"
   ],
   "metadata": {
    "collapsed": false,
    "ExecuteTime": {
     "end_time": "2024-02-23T17:19:23.750574Z",
     "start_time": "2024-02-23T17:19:23.745219Z"
    }
   },
   "id": "c6f7385fbec85688",
   "execution_count": 11
  },
  {
   "cell_type": "code",
   "outputs": [
    {
     "data": {
      "text/plain": "3.3333333333333335"
     },
     "execution_count": 12,
     "metadata": {},
     "output_type": "execute_result"
    }
   ],
   "source": [
    "# This will convert 200 minutes to hours by diving by 60\n",
    "200/60"
   ],
   "metadata": {
    "collapsed": false,
    "ExecuteTime": {
     "end_time": "2024-02-23T17:19:23.754623Z",
     "start_time": "2024-02-23T17:19:23.752003Z"
    }
   },
   "id": "f1bdc19f8c48395a",
   "execution_count": 12
  }
 ],
 "metadata": {
  "kernelspec": {
   "display_name": "Python 3",
   "language": "python",
   "name": "python3"
  },
  "language_info": {
   "codemirror_mode": {
    "name": "ipython",
    "version": 2
   },
   "file_extension": ".py",
   "mimetype": "text/x-python",
   "name": "python",
   "nbconvert_exporter": "python",
   "pygments_lexer": "ipython2",
   "version": "2.7.6"
  }
 },
 "nbformat": 4,
 "nbformat_minor": 5
}
